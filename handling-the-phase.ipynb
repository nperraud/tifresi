{
 "cells": [
  {
   "cell_type": "code",
   "execution_count": null,
   "metadata": {},
   "outputs": [],
   "source": [
    "%matplotlib inline\n",
    "%load_ext autoreload"
   ]
  },
  {
   "cell_type": "code",
   "execution_count": null,
   "metadata": {},
   "outputs": [],
   "source": [
    "import numpy as np\n",
    "import ltfatpy\n",
    "import matplotlib.pyplot as plt\n",
    "from tifresi.phase.modGabPhaseGrad import modgabphasegrad\n",
    "from tifresi.phase.pghi import pghi\n",
    "from tifresi.utils import unwrap\n",
    "import matplotlib as mpl"
   ]
  },
  {
   "cell_type": "code",
   "execution_count": null,
   "metadata": {},
   "outputs": [],
   "source": [
    "L = 2000\n",
    "M = 2000\n",
    "M2 = int(M/2+1)\n",
    "a = 1\n",
    "N = L/a\n",
    "b = L/M\n",
    "\n",
    "tfr = a/b\n",
    "\n",
    "f0 = np.arange(L)\n",
    "f3 = np.zeros([L])\n",
    "for kk in range(1,5,1):\n",
    "#     f3 = f3 + np.exp(2*np.pi*1j*f0*kk/20)\n",
    "    f3 = f3 + 2*kk*np.cos(2*np.pi*f0*kk/20)\n",
    "\n",
    "f4 = np.zeros([L])\n",
    "f4[100:L:400] = np.arange(0,5)*np.sqrt(L)\n",
    "f = f3+f4\n",
    "f = np.real(f)\n",
    "# f = signal[:L]\n",
    "\n",
    "c = ltfatpy.dgtreal(f,{'name': 'gauss', 'tfr': 4},a,M)[0]\n",
    "\n",
    "\n",
    "tgrad, fgrad = modgabphasegrad('phase',np.angle(c),a, M)"
   ]
  },
  {
   "cell_type": "code",
   "execution_count": null,
   "metadata": {},
   "outputs": [],
   "source": [
    "mpl.rcParams['image.cmap'] =  'inferno'\n",
    "plt.figure(figsize=(15,6));\n",
    "plt.subplot(231);\n",
    "ltfatpy.plotdgtreal(c,a,M,dynrange=60);\n",
    "plt.title('Log magnitude')\n",
    "plt.subplot(232);\n",
    "ltfatpy.plotdgtreal(tgrad*(np.abs(c) > np.exp(-5)),a,M,clim=[-50,50], normalization='lin');\n",
    "plt.title('Phase time-derivative')\n",
    "plt.subplot(233);\n",
    "ltfatpy.plotdgtreal(fgrad*(np.abs(c) > np.exp(-5)),a,M,clim=[-100,100], normalization='lin');\n",
    "plt.title('Phase frequency-derivative')\n",
    "plt.subplot(234);\n",
    "ltfatpy.plotdgtreal(np.angle(c),a,M, normalization='lin');\n",
    "plt.title('Phase')\n",
    "plt.subplot(235);\n",
    "ltfatpy.plotdgtreal(unwrap(np.angle(c)),a,M, normalization='lin');\n",
    "plt.title('Phase unwrapped in time')\n",
    "plt.subplot(236);\n",
    "ltfatpy.plotdgtreal(unwrap(np.angle(c).T).T,a,M, normalization='lin');\n",
    "plt.title('Phase unwrapped in frequency')"
   ]
  },
  {
   "cell_type": "code",
   "execution_count": null,
   "metadata": {},
   "outputs": [],
   "source": [
    "phase = pghi(np.abs(c), tgrad, fgrad, a, M, L)"
   ]
  },
  {
   "cell_type": "code",
   "execution_count": null,
   "metadata": {},
   "outputs": [],
   "source": [
    "plt.figure(figsize=(12,5));\n",
    "plt.subplot(121)\n",
    "ltfatpy.plotdgtreal(phase ,a,M, normalization='lin');\n",
    "plt.subplot(122)\n",
    "ltfatpy.plotdgtreal(unwrap(np.angle(c).T).T,a,M, normalization='lin');\n"
   ]
  },
  {
   "cell_type": "code",
   "execution_count": null,
   "metadata": {},
   "outputs": [],
   "source": []
  }
 ],
 "metadata": {
  "kernelspec": {
   "display_name": "tifrese",
   "language": "python",
   "name": "python3"
  },
  "language_info": {
   "codemirror_mode": {
    "name": "ipython",
    "version": 3
   },
   "file_extension": ".py",
   "mimetype": "text/x-python",
   "name": "python",
   "nbconvert_exporter": "python",
   "pygments_lexer": "ipython3",
   "version": "3.10.6"
  }
 },
 "nbformat": 4,
 "nbformat_minor": 2
}
