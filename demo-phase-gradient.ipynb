{
 "cells": [
  {
   "cell_type": "code",
   "execution_count": null,
   "metadata": {
    "tags": []
   },
   "outputs": [],
   "source": [
    "%matplotlib inline\n",
    "%load_ext autoreload"
   ]
  },
  {
   "cell_type": "code",
   "execution_count": null,
   "metadata": {
    "tags": []
   },
   "outputs": [],
   "source": [
    "from tifresi import pyplot as plt\n",
    "import numpy as np"
   ]
  },
  {
   "cell_type": "code",
   "execution_count": null,
   "metadata": {
    "tags": []
   },
   "outputs": [],
   "source": [
    "# Select a test signal\n",
    "import librosa\n",
    "filename = librosa.util.example('brahms')"
   ]
  },
  {
   "attachments": {},
   "cell_type": "markdown",
   "metadata": {},
   "source": [
    "# Load the signal"
   ]
  },
  {
   "cell_type": "code",
   "execution_count": null,
   "metadata": {
    "tags": []
   },
   "outputs": [],
   "source": [
    "from tifresi.utils import load_signal\n",
    "y, sr = load_signal(filename)\n",
    "# Apply some light preprocessing\n",
    "from tifresi.utils import preprocess_signal\n",
    "cut_len = 512*128\n",
    "y = preprocess_signal(y)[10*cut_len:11*cut_len]\n",
    "# Plot the signal in the time domain\n",
    "n = 512*128\n",
    "\n",
    "t = np.arange(n)/sr*1000\n",
    "plt.figure(figsize=(4, 2.5))\n",
    "plt.plot(t, y[:n])\n",
    "plt.xlim([0, n/sr*1000])\n",
    "plt.xlabel('Time [ms]');"
   ]
  },
  {
   "cell_type": "code",
   "execution_count": null,
   "metadata": {
    "tags": []
   },
   "outputs": [],
   "source": [
    "from IPython.display import display, Audio\n",
    "display(Audio(y, rate=sr))"
   ]
  },
  {
   "attachments": {},
   "cell_type": "markdown",
   "metadata": {},
   "source": [
    "# Define the main parameters\n",
    "* The number of frequency channel for the stft `stft_channels`\n",
    "* The hop_size in time `hop_size`"
   ]
  },
  {
   "cell_type": "code",
   "execution_count": null,
   "metadata": {
    "tags": []
   },
   "outputs": [],
   "source": [
    "# Here we use the default paramters. We recommend using them.\n",
    "from tifresi.hparams import HParams\n",
    "stft_channels = HParams.stft_channels # 1024\n",
    "stft_channels = 2048\n",
    "# hop_size = HParams.hop_size # 256\n",
    "hop_size = 32\n",
    "hop_size = 256\n"
   ]
  },
  {
   "attachments": {},
   "cell_type": "markdown",
   "metadata": {},
   "source": [
    "# Build the time frequency system\n",
    "The system will be used for the following operation:\n",
    "* Compute the STFT\n",
    "* Compute the spectrogram and the phase gradients\n",
    "* Reconstruct the phase from the phase gradients\n",
    "* Invert the STFT"
   ]
  },
  {
   "cell_type": "code",
   "execution_count": null,
   "metadata": {},
   "outputs": [],
   "source": [
    "from tifresi.stft import PhaseGradTF\n",
    "stft_system = PhaseGradTF(hop_size=hop_size, stft_channels=stft_channels)"
   ]
  },
  {
   "cell_type": "code",
   "execution_count": null,
   "metadata": {},
   "outputs": [],
   "source": [
    "magSpectrogram, tgrad, fgrad = stft_system.mag_phase_grad(y)\n",
    "np.max(magSpectrogram)"
   ]
  },
  {
   "cell_type": "code",
   "execution_count": null,
   "metadata": {},
   "outputs": [],
   "source": [
    "dynamic_range_dB = 50\n",
    "\n",
    "# We use the log spectrogram as we have a logarithmic perception of sound energy.\n",
    "from tifresi.transforms import log_spectrogram, inv_log_spectrogram\n",
    "logSpectrogram= log_spectrogram(magSpectrogram, dynamic_range_dB=dynamic_range_dB)\n",
    "plt.figure(figsize=(10, 7))\n",
    "plt.subplot(3, 1, 1)\n",
    "plt.imshow(logSpectrogram + dynamic_range_dB, cmap=\"afmhot_r\")\n",
    "plt.title('Log spectrogram')\n",
    "plt.colorbar()\n",
    "plt.subplot(3, 1, 2)\n",
    "clim = np.max(np.abs(tgrad))\n",
    "plt.imshow(tgrad, cmap=\"seismic\", clim=(-clim, clim))\n",
    "plt.colorbar()\n",
    "plt.title('Time gradient')\n",
    "plt.subplot(3, 1, 3)\n",
    "clim = np.max(np.abs(fgrad))\n",
    "plt.imshow(fgrad, cmap=\"seismic\", clim=(-clim, clim))\n",
    "plt.title('Frequency gradient')\n",
    "plt.colorbar()\n",
    "plt.tight_layout()\n"
   ]
  },
  {
   "attachments": {},
   "cell_type": "markdown",
   "metadata": {},
   "source": [
    "# Invert the representation"
   ]
  },
  {
   "cell_type": "code",
   "execution_count": null,
   "metadata": {},
   "outputs": [],
   "source": [
    "magSpectrogramR = inv_log_spectrogram(logSpectrogram)"
   ]
  },
  {
   "cell_type": "code",
   "execution_count": null,
   "metadata": {},
   "outputs": [],
   "source": [
    "y_reconstructed = stft_system.invert_mag_phase_grad(magSpectrogramR, tgrad, fgrad)\n"
   ]
  },
  {
   "cell_type": "code",
   "execution_count": null,
   "metadata": {},
   "outputs": [],
   "source": [
    "display(Audio(y_reconstructed, rate=sr))"
   ]
  },
  {
   "cell_type": "code",
   "execution_count": null,
   "metadata": {},
   "outputs": [],
   "source": []
  }
 ],
 "metadata": {
  "kernelspec": {
   "display_name": "Python 3 (ipykernel)",
   "language": "python",
   "name": "python3"
  },
  "language_info": {
   "codemirror_mode": {
    "name": "ipython",
    "version": 3
   },
   "file_extension": ".py",
   "mimetype": "text/x-python",
   "name": "python",
   "nbconvert_exporter": "python",
   "pygments_lexer": "ipython3",
   "version": "3.10.6"
  }
 },
 "nbformat": 4,
 "nbformat_minor": 4
}
