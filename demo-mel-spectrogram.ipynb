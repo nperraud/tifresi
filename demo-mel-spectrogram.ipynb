{
 "cells": [
  {
   "cell_type": "code",
   "execution_count": null,
   "metadata": {
    "tags": []
   },
   "outputs": [],
   "source": [
    "%matplotlib inline\n",
    "from tifresi import pyplot as plt\n",
    "import numpy as np"
   ]
  },
  {
   "attachments": {},
   "cell_type": "markdown",
   "metadata": {},
   "source": [
    "# Select a test signal\n"
   ]
  },
  {
   "cell_type": "code",
   "execution_count": null,
   "metadata": {
    "tags": []
   },
   "outputs": [],
   "source": [
    "import librosa\n",
    "filename = librosa.util.example('brahms')"
   ]
  },
  {
   "attachments": {},
   "cell_type": "markdown",
   "metadata": {},
   "source": [
    "# Load the signal"
   ]
  },
  {
   "cell_type": "code",
   "execution_count": null,
   "metadata": {
    "tags": []
   },
   "outputs": [],
   "source": [
    "from tifresi.utils import load_signal\n",
    "y, sr = load_signal(filename)\n",
    "# Apply some light preprocessing\n",
    "from tifresi.utils import preprocess_signal\n",
    "y = preprocess_signal(y)\n",
    "# Plot the signal in the time domain\n",
    "n = 256*256\n",
    "t = np.arange(n)/sr*1000\n",
    "plt.figure(figsize=(10, 2))\n",
    "plt.plot(t, y[:n])\n",
    "plt.xlabel('Time [ms]');\n",
    "plt.ylabel('Amplitude');\n",
    "plt.xlim(0, np.max(t))"
   ]
  },
  {
   "cell_type": "code",
   "execution_count": null,
   "metadata": {
    "tags": []
   },
   "outputs": [],
   "source": [
    "from IPython.display import display, Audio\n",
    "display(Audio(y, rate=sr))"
   ]
  },
  {
   "attachments": {},
   "cell_type": "markdown",
   "metadata": {},
   "source": [
    "# Define the main parameters\n",
    "* The number of frequency channel for the stft `stft_channels`\n",
    "* The hop_size in time `hop_size`\n",
    "* The number of mel bins in time `n_mels`"
   ]
  },
  {
   "cell_type": "code",
   "execution_count": null,
   "metadata": {
    "tags": []
   },
   "outputs": [],
   "source": [
    "# Here we use the default paramters. We recommend using them.\n",
    "from tifresi.hparams import HParams\n",
    "stft_channels = HParams.stft_channels # 1024\n",
    "hop_size = HParams.hop_size # 256\n",
    "n_mels = HParams.n_mels # 80\n",
    "fmin = HParams.fmin # 0\n",
    "fmax = HParams.fmax # None\n",
    "mel_basis = HParams.mel_basis"
   ]
  },
  {
   "attachments": {},
   "cell_type": "markdown",
   "metadata": {},
   "source": [
    "# Build the time frequency system\n",
    "The system will be used for the following operation:\n",
    "* Compute the STFT\n",
    "* Compute the spectrogram\n",
    "* Compute the mel spectrogram"
   ]
  },
  {
   "cell_type": "code",
   "execution_count": null,
   "metadata": {
    "tags": []
   },
   "outputs": [],
   "source": [
    "from tifresi.stft import GaussTF\n",
    "stft_system = GaussTF(hop_size=hop_size, stft_channels=stft_channels)"
   ]
  },
  {
   "attachments": {},
   "cell_type": "markdown",
   "metadata": {},
   "source": [
    "# Compute the melspectrogram"
   ]
  },
  {
   "cell_type": "code",
   "execution_count": null,
   "metadata": {
    "tags": []
   },
   "outputs": [],
   "source": [
    "Y = stft_system.spectrogram(y)"
   ]
  },
  {
   "cell_type": "code",
   "execution_count": null,
   "metadata": {},
   "outputs": [],
   "source": [
    "dynamic_range_dB = 50\n",
    "\n",
    "# We use the log spectrogram as we have a logarithmic perception of sound energy.\n",
    "from tifresi.transforms import log_spectrogram\n",
    "logSpectrogram= log_spectrogram(Y, dynamic_range_dB=dynamic_range_dB)\n",
    "tmax = logSpectrogram.shape[1]/sr * hop_size\n",
    "plt.figure(figsize=(10, 2))\n",
    "plt.imshow(logSpectrogram, cmap=\"afmhot_r\", origin=\"lower\", aspect=\"auto\", extent=[0, tmax, 0, sr/2/1000])\n",
    "plt.title('Log spectrogram')\n",
    "plt.xlabel('Time [s]')\n",
    "plt.xlim(0, tmax)\n",
    "plt.ylabel('Frequency [kHz]')\n",
    "plt.colorbar()\n"
   ]
  },
  {
   "cell_type": "code",
   "execution_count": null,
   "metadata": {},
   "outputs": [],
   "source": [
    "mel_basis = librosa.filters.mel(sr=sr, n_fft=stft_channels, n_mels=n_mels, fmin=fmin, fmax=fmax)\n"
   ]
  },
  {
   "cell_type": "code",
   "execution_count": null,
   "metadata": {
    "tags": []
   },
   "outputs": [],
   "source": [
    "# We use the log mel spectrogram as we have a logarithmic perception of sound energy.\n",
    "from tifresi.transforms import log_mel_spectrogram, log_spectrogram\n",
    "log_Y = log_mel_spectrogram(Y, stft_channels, n_mels)\n",
    "# this is equivalent as doing\n",
    "log_Y2 = log_spectrogram(mel_basis.dot(Y))\n",
    "\n",
    "np.testing.assert_allclose(log_Y, log_Y2, atol=1e-6)"
   ]
  },
  {
   "cell_type": "code",
   "execution_count": null,
   "metadata": {},
   "outputs": [],
   "source": [
    "# from tifresi.hparams import HParams as p\n",
    "\n",
    "# mel_basis = librosa.filters.mel(sr=sr, n_fft=stft_channels, n_mels=n_mels, fmin=p.fmin, fmax=p.fmax)\n",
    "# plt.imshow(mel_basis, aspect='auto', origin='lower')"
   ]
  },
  {
   "cell_type": "code",
   "execution_count": null,
   "metadata": {
    "tags": []
   },
   "outputs": [],
   "source": [
    "plt.figure(dpi=200, figsize=(10,2))\n",
    "plt.imshow(log_Y[:,:n//hop_size], cmap=\"afmhot_r\", origin=\"lower\", aspect=\"auto\", extent=[0, tmax, 0, sr/2/1000])\n",
    "plt.title('Log mel spectrogram')\n",
    "plt.xlabel('Time [s]')\n",
    "plt.xlim(0, tmax)\n",
    "# plt.ylabel('Frequency [kHz]')\n",
    "# no y axis\n",
    "plt.yticks([])\n",
    "plt.colorbar()"
   ]
  },
  {
   "cell_type": "code",
   "execution_count": null,
   "metadata": {},
   "outputs": [],
   "source": []
  }
 ],
 "metadata": {
  "kernelspec": {
   "display_name": "Python 3 (ipykernel)",
   "language": "python",
   "name": "python3"
  },
  "language_info": {
   "codemirror_mode": {
    "name": "ipython",
    "version": 3
   },
   "file_extension": ".py",
   "mimetype": "text/x-python",
   "name": "python",
   "nbconvert_exporter": "python",
   "pygments_lexer": "ipython3",
   "version": "3.10.6"
  }
 },
 "nbformat": 4,
 "nbformat_minor": 4
}
